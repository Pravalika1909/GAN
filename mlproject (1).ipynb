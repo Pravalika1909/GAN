{
  "cells": [
    {
      "cell_type": "code",
      "execution_count": null,
      "metadata": {
        "colab": {
          "base_uri": "https://localhost:8080/"
        },
        "id": "NRgOl8torIgN",
        "outputId": "397ceff3-c049-4916-d91b-75d590e95b8c"
      },
      "outputs": [
        {
          "output_type": "stream",
          "name": "stdout",
          "text": [
            "Requirement already satisfied: torchvision in /usr/local/lib/python3.11/dist-packages (0.21.0+cu124)\n",
            "Requirement already satisfied: matplotlib in /usr/local/lib/python3.11/dist-packages (3.10.0)\n",
            "Requirement already satisfied: numpy in /usr/local/lib/python3.11/dist-packages (from torchvision) (2.0.2)\n",
            "Requirement already satisfied: torch==2.6.0 in /usr/local/lib/python3.11/dist-packages (from torchvision) (2.6.0+cu124)\n",
            "Requirement already satisfied: pillow!=8.3.*,>=5.3.0 in /usr/local/lib/python3.11/dist-packages (from torchvision) (11.2.1)\n",
            "Requirement already satisfied: filelock in /usr/local/lib/python3.11/dist-packages (from torch==2.6.0->torchvision) (3.18.0)\n",
            "Requirement already satisfied: typing-extensions>=4.10.0 in /usr/local/lib/python3.11/dist-packages (from torch==2.6.0->torchvision) (4.14.0)\n",
            "Requirement already satisfied: networkx in /usr/local/lib/python3.11/dist-packages (from torch==2.6.0->torchvision) (3.5)\n",
            "Requirement already satisfied: jinja2 in /usr/local/lib/python3.11/dist-packages (from torch==2.6.0->torchvision) (3.1.6)\n",
            "Requirement already satisfied: fsspec in /usr/local/lib/python3.11/dist-packages (from torch==2.6.0->torchvision) (2025.3.2)\n",
            "Collecting nvidia-cuda-nvrtc-cu12==12.4.127 (from torch==2.6.0->torchvision)\n",
            "  Downloading nvidia_cuda_nvrtc_cu12-12.4.127-py3-none-manylinux2014_x86_64.whl.metadata (1.5 kB)\n",
            "Collecting nvidia-cuda-runtime-cu12==12.4.127 (from torch==2.6.0->torchvision)\n",
            "  Downloading nvidia_cuda_runtime_cu12-12.4.127-py3-none-manylinux2014_x86_64.whl.metadata (1.5 kB)\n",
            "Collecting nvidia-cuda-cupti-cu12==12.4.127 (from torch==2.6.0->torchvision)\n",
            "  Downloading nvidia_cuda_cupti_cu12-12.4.127-py3-none-manylinux2014_x86_64.whl.metadata (1.6 kB)\n",
            "Collecting nvidia-cudnn-cu12==9.1.0.70 (from torch==2.6.0->torchvision)\n",
            "  Downloading nvidia_cudnn_cu12-9.1.0.70-py3-none-manylinux2014_x86_64.whl.metadata (1.6 kB)\n",
            "Collecting nvidia-cublas-cu12==12.4.5.8 (from torch==2.6.0->torchvision)\n",
            "  Downloading nvidia_cublas_cu12-12.4.5.8-py3-none-manylinux2014_x86_64.whl.metadata (1.5 kB)\n",
            "Collecting nvidia-cufft-cu12==11.2.1.3 (from torch==2.6.0->torchvision)\n",
            "  Downloading nvidia_cufft_cu12-11.2.1.3-py3-none-manylinux2014_x86_64.whl.metadata (1.5 kB)\n",
            "Collecting nvidia-curand-cu12==10.3.5.147 (from torch==2.6.0->torchvision)\n",
            "  Downloading nvidia_curand_cu12-10.3.5.147-py3-none-manylinux2014_x86_64.whl.metadata (1.5 kB)\n",
            "Collecting nvidia-cusolver-cu12==11.6.1.9 (from torch==2.6.0->torchvision)\n",
            "  Downloading nvidia_cusolver_cu12-11.6.1.9-py3-none-manylinux2014_x86_64.whl.metadata (1.6 kB)\n",
            "Collecting nvidia-cusparse-cu12==12.3.1.170 (from torch==2.6.0->torchvision)\n",
            "  Downloading nvidia_cusparse_cu12-12.3.1.170-py3-none-manylinux2014_x86_64.whl.metadata (1.6 kB)\n",
            "Requirement already satisfied: nvidia-cusparselt-cu12==0.6.2 in /usr/local/lib/python3.11/dist-packages (from torch==2.6.0->torchvision) (0.6.2)\n",
            "Requirement already satisfied: nvidia-nccl-cu12==2.21.5 in /usr/local/lib/python3.11/dist-packages (from torch==2.6.0->torchvision) (2.21.5)\n",
            "Requirement already satisfied: nvidia-nvtx-cu12==12.4.127 in /usr/local/lib/python3.11/dist-packages (from torch==2.6.0->torchvision) (12.4.127)\n",
            "Collecting nvidia-nvjitlink-cu12==12.4.127 (from torch==2.6.0->torchvision)\n",
            "  Downloading nvidia_nvjitlink_cu12-12.4.127-py3-none-manylinux2014_x86_64.whl.metadata (1.5 kB)\n",
            "Requirement already satisfied: triton==3.2.0 in /usr/local/lib/python3.11/dist-packages (from torch==2.6.0->torchvision) (3.2.0)\n",
            "Requirement already satisfied: sympy==1.13.1 in /usr/local/lib/python3.11/dist-packages (from torch==2.6.0->torchvision) (1.13.1)\n",
            "Requirement already satisfied: mpmath<1.4,>=1.1.0 in /usr/local/lib/python3.11/dist-packages (from sympy==1.13.1->torch==2.6.0->torchvision) (1.3.0)\n",
            "Requirement already satisfied: contourpy>=1.0.1 in /usr/local/lib/python3.11/dist-packages (from matplotlib) (1.3.2)\n",
            "Requirement already satisfied: cycler>=0.10 in /usr/local/lib/python3.11/dist-packages (from matplotlib) (0.12.1)\n",
            "Requirement already satisfied: fonttools>=4.22.0 in /usr/local/lib/python3.11/dist-packages (from matplotlib) (4.58.1)\n",
            "Requirement already satisfied: kiwisolver>=1.3.1 in /usr/local/lib/python3.11/dist-packages (from matplotlib) (1.4.8)\n",
            "Requirement already satisfied: packaging>=20.0 in /usr/local/lib/python3.11/dist-packages (from matplotlib) (24.2)\n",
            "Requirement already satisfied: pyparsing>=2.3.1 in /usr/local/lib/python3.11/dist-packages (from matplotlib) (3.2.3)\n",
            "Requirement already satisfied: python-dateutil>=2.7 in /usr/local/lib/python3.11/dist-packages (from matplotlib) (2.9.0.post0)\n",
            "Requirement already satisfied: six>=1.5 in /usr/local/lib/python3.11/dist-packages (from python-dateutil>=2.7->matplotlib) (1.17.0)\n",
            "Requirement already satisfied: MarkupSafe>=2.0 in /usr/local/lib/python3.11/dist-packages (from jinja2->torch==2.6.0->torchvision) (3.0.2)\n",
            "Downloading nvidia_cublas_cu12-12.4.5.8-py3-none-manylinux2014_x86_64.whl (363.4 MB)\n",
            "\u001b[2K   \u001b[90m━━━━━━━━━━━━━━━━━━━━━━━━━━━━━━━━━━━━━━━━\u001b[0m \u001b[32m363.4/363.4 MB\u001b[0m \u001b[31m4.3 MB/s\u001b[0m eta \u001b[36m0:00:00\u001b[0m\n",
            "\u001b[?25hDownloading nvidia_cuda_cupti_cu12-12.4.127-py3-none-manylinux2014_x86_64.whl (13.8 MB)\n",
            "\u001b[2K   \u001b[90m━━━━━━━━━━━━━━━━━━━━━━━━━━━━━━━━━━━━━━━━\u001b[0m \u001b[32m13.8/13.8 MB\u001b[0m \u001b[31m96.1 MB/s\u001b[0m eta \u001b[36m0:00:00\u001b[0m\n",
            "\u001b[?25hDownloading nvidia_cuda_nvrtc_cu12-12.4.127-py3-none-manylinux2014_x86_64.whl (24.6 MB)\n",
            "\u001b[2K   \u001b[90m━━━━━━━━━━━━━━━━━━━━━━━━━━━━━━━━━━━━━━━━\u001b[0m \u001b[32m24.6/24.6 MB\u001b[0m \u001b[31m76.6 MB/s\u001b[0m eta \u001b[36m0:00:00\u001b[0m\n",
            "\u001b[?25hDownloading nvidia_cuda_runtime_cu12-12.4.127-py3-none-manylinux2014_x86_64.whl (883 kB)\n",
            "\u001b[2K   \u001b[90m━━━━━━━━━━━━━━━━━━━━━━━━━━━━━━━━━━━━━━━━\u001b[0m \u001b[32m883.7/883.7 kB\u001b[0m \u001b[31m46.0 MB/s\u001b[0m eta \u001b[36m0:00:00\u001b[0m\n",
            "\u001b[?25hDownloading nvidia_cudnn_cu12-9.1.0.70-py3-none-manylinux2014_x86_64.whl (664.8 MB)\n",
            "\u001b[2K   \u001b[90m━━━━━━━━━━━━━━━━━━━━━━━━━━━━━━━━━━━━━━━━\u001b[0m \u001b[32m664.8/664.8 MB\u001b[0m \u001b[31m3.1 MB/s\u001b[0m eta \u001b[36m0:00:00\u001b[0m\n",
            "\u001b[?25hDownloading nvidia_cufft_cu12-11.2.1.3-py3-none-manylinux2014_x86_64.whl (211.5 MB)\n",
            "\u001b[2K   \u001b[90m━━━━━━━━━━━━━━━━━━━━━━━━━━━━━━━━━━━━━━━━\u001b[0m \u001b[32m211.5/211.5 MB\u001b[0m \u001b[31m5.7 MB/s\u001b[0m eta \u001b[36m0:00:00\u001b[0m\n",
            "\u001b[?25hDownloading nvidia_curand_cu12-10.3.5.147-py3-none-manylinux2014_x86_64.whl (56.3 MB)\n",
            "\u001b[2K   \u001b[90m━━━━━━━━━━━━━━━━━━━━━━━━━━━━━━━━━━━━━━━━\u001b[0m \u001b[32m56.3/56.3 MB\u001b[0m \u001b[31m14.7 MB/s\u001b[0m eta \u001b[36m0:00:00\u001b[0m\n",
            "\u001b[?25hDownloading nvidia_cusolver_cu12-11.6.1.9-py3-none-manylinux2014_x86_64.whl (127.9 MB)\n",
            "\u001b[2K   \u001b[90m━━━━━━━━━━━━━━━━━━━━━━━━━━━━━━━━━━━━━━━━\u001b[0m \u001b[32m127.9/127.9 MB\u001b[0m \u001b[31m7.4 MB/s\u001b[0m eta \u001b[36m0:00:00\u001b[0m\n",
            "\u001b[?25hDownloading nvidia_cusparse_cu12-12.3.1.170-py3-none-manylinux2014_x86_64.whl (207.5 MB)\n",
            "\u001b[2K   \u001b[90m━━━━━━━━━━━━━━━━━━━━━━━━━━━━━━━━━━━━━━━━\u001b[0m \u001b[32m207.5/207.5 MB\u001b[0m \u001b[31m5.5 MB/s\u001b[0m eta \u001b[36m0:00:00\u001b[0m\n",
            "\u001b[?25hDownloading nvidia_nvjitlink_cu12-12.4.127-py3-none-manylinux2014_x86_64.whl (21.1 MB)\n",
            "\u001b[2K   \u001b[90m━━━━━━━━━━━━━━━━━━━━━━━━━━━━━━━━━━━━━━━━\u001b[0m \u001b[32m21.1/21.1 MB\u001b[0m \u001b[31m68.2 MB/s\u001b[0m eta \u001b[36m0:00:00\u001b[0m\n",
            "\u001b[?25hInstalling collected packages: nvidia-nvjitlink-cu12, nvidia-curand-cu12, nvidia-cufft-cu12, nvidia-cuda-runtime-cu12, nvidia-cuda-nvrtc-cu12, nvidia-cuda-cupti-cu12, nvidia-cublas-cu12, nvidia-cusparse-cu12, nvidia-cudnn-cu12, nvidia-cusolver-cu12\n",
            "  Attempting uninstall: nvidia-nvjitlink-cu12\n",
            "    Found existing installation: nvidia-nvjitlink-cu12 12.5.82\n",
            "    Uninstalling nvidia-nvjitlink-cu12-12.5.82:\n",
            "      Successfully uninstalled nvidia-nvjitlink-cu12-12.5.82\n",
            "  Attempting uninstall: nvidia-curand-cu12\n",
            "    Found existing installation: nvidia-curand-cu12 10.3.6.82\n",
            "    Uninstalling nvidia-curand-cu12-10.3.6.82:\n",
            "      Successfully uninstalled nvidia-curand-cu12-10.3.6.82\n",
            "  Attempting uninstall: nvidia-cufft-cu12\n",
            "    Found existing installation: nvidia-cufft-cu12 11.2.3.61\n",
            "    Uninstalling nvidia-cufft-cu12-11.2.3.61:\n",
            "      Successfully uninstalled nvidia-cufft-cu12-11.2.3.61\n",
            "  Attempting uninstall: nvidia-cuda-runtime-cu12\n",
            "    Found existing installation: nvidia-cuda-runtime-cu12 12.5.82\n",
            "    Uninstalling nvidia-cuda-runtime-cu12-12.5.82:\n",
            "      Successfully uninstalled nvidia-cuda-runtime-cu12-12.5.82\n",
            "  Attempting uninstall: nvidia-cuda-nvrtc-cu12\n",
            "    Found existing installation: nvidia-cuda-nvrtc-cu12 12.5.82\n",
            "    Uninstalling nvidia-cuda-nvrtc-cu12-12.5.82:\n",
            "      Successfully uninstalled nvidia-cuda-nvrtc-cu12-12.5.82\n",
            "  Attempting uninstall: nvidia-cuda-cupti-cu12\n",
            "    Found existing installation: nvidia-cuda-cupti-cu12 12.5.82\n",
            "    Uninstalling nvidia-cuda-cupti-cu12-12.5.82:\n",
            "      Successfully uninstalled nvidia-cuda-cupti-cu12-12.5.82\n",
            "  Attempting uninstall: nvidia-cublas-cu12\n",
            "    Found existing installation: nvidia-cublas-cu12 12.5.3.2\n",
            "    Uninstalling nvidia-cublas-cu12-12.5.3.2:\n",
            "      Successfully uninstalled nvidia-cublas-cu12-12.5.3.2\n",
            "  Attempting uninstall: nvidia-cusparse-cu12\n",
            "    Found existing installation: nvidia-cusparse-cu12 12.5.1.3\n",
            "    Uninstalling nvidia-cusparse-cu12-12.5.1.3:\n",
            "      Successfully uninstalled nvidia-cusparse-cu12-12.5.1.3\n",
            "  Attempting uninstall: nvidia-cudnn-cu12\n",
            "    Found existing installation: nvidia-cudnn-cu12 9.3.0.75\n",
            "    Uninstalling nvidia-cudnn-cu12-9.3.0.75:\n",
            "      Successfully uninstalled nvidia-cudnn-cu12-9.3.0.75\n",
            "  Attempting uninstall: nvidia-cusolver-cu12\n",
            "    Found existing installation: nvidia-cusolver-cu12 11.6.3.83\n",
            "    Uninstalling nvidia-cusolver-cu12-11.6.3.83:\n",
            "      Successfully uninstalled nvidia-cusolver-cu12-11.6.3.83\n",
            "Successfully installed nvidia-cublas-cu12-12.4.5.8 nvidia-cuda-cupti-cu12-12.4.127 nvidia-cuda-nvrtc-cu12-12.4.127 nvidia-cuda-runtime-cu12-12.4.127 nvidia-cudnn-cu12-9.1.0.70 nvidia-cufft-cu12-11.2.1.3 nvidia-curand-cu12-10.3.5.147 nvidia-cusolver-cu12-11.6.1.9 nvidia-cusparse-cu12-12.3.1.170 nvidia-nvjitlink-cu12-12.4.127\n"
          ]
        }
      ],
      "source": [
        "!pip install torchvision matplotlib"
      ]
    },
    {
      "cell_type": "code",
      "execution_count": null,
      "metadata": {
        "id": "EVYShXSMvHmj"
      },
      "outputs": [],
      "source": [
        "import os\n",
        "os.makedirs(\"generated_images\", exist_ok=True)"
      ]
    },
    {
      "cell_type": "code",
      "execution_count": null,
      "metadata": {
        "id": "91SbhyJQvRGm"
      },
      "outputs": [],
      "source": [
        "import torch\n",
        "import torch.nn as nn\n",
        "import torchvision\n",
        "from torchvision import datasets, transforms\n",
        "from torch.utils.data import DataLoader\n",
        "import matplotlib.pyplot as plt"
      ]
    },
    {
      "cell_type": "code",
      "execution_count": null,
      "metadata": {
        "colab": {
          "base_uri": "https://localhost:8080/"
        },
        "id": "IFg9baouvWlj",
        "outputId": "d6f25717-4b81-4f6f-9d7c-e827e6657341"
      },
      "outputs": [
        {
          "output_type": "stream",
          "name": "stdout",
          "text": [
            "Using device: cpu\n"
          ]
        }
      ],
      "source": [
        "device = torch.device('cuda' if torch.cuda.is_available() else 'cpu')\n",
        "\n",
        "latent_dim = 100\n",
        "batch_size = 128\n",
        "epochs = 50\n",
        "lr = 0.0002\n",
        "print(\"Using device:\", device)"
      ]
    },
    {
      "cell_type": "code",
      "execution_count": null,
      "metadata": {
        "colab": {
          "base_uri": "https://localhost:8080/"
        },
        "id": "a4XV9RELvc_S",
        "outputId": "2b4faceb-87df-44a3-892c-b0be5b3b3b72"
      },
      "outputs": [
        {
          "output_type": "stream",
          "name": "stderr",
          "text": [
            "100%|██████████| 9.91M/9.91M [00:00<00:00, 51.0MB/s]\n",
            "100%|██████████| 28.9k/28.9k [00:00<00:00, 1.64MB/s]\n",
            "100%|██████████| 1.65M/1.65M [00:00<00:00, 13.7MB/s]\n",
            "100%|██████████| 4.54k/4.54k [00:00<00:00, 5.82MB/s]"
          ]
        },
        {
          "output_type": "stream",
          "name": "stdout",
          "text": [
            "Image batch shape: torch.Size([128, 1, 28, 28])\n"
          ]
        },
        {
          "output_type": "stream",
          "name": "stderr",
          "text": [
            "\n"
          ]
        }
      ],
      "source": [
        "transform = transforms.Compose([\n",
        "    transforms.ToTensor(),\n",
        "    transforms.Normalize([0.5], [0.5])\n",
        "])\n",
        "\n",
        "dataset = datasets.MNIST(root='data', train=True, transform=transform, download=True)\n",
        "dataloader = DataLoader(dataset, batch_size=batch_size, shuffle=True)\n",
        "\n",
        "# Check size of one batch\n",
        "images, _ = next(iter(dataloader))\n",
        "print(\"Image batch shape:\", images.shape)"
      ]
    },
    {
      "cell_type": "code",
      "execution_count": null,
      "metadata": {
        "colab": {
          "base_uri": "https://localhost:8080/"
        },
        "id": "XQDsM4u-vkKA",
        "outputId": "7793744c-4c00-4f6e-8e04-b1939ebecfa8"
      },
      "outputs": [
        {
          "output_type": "stream",
          "name": "stdout",
          "text": [
            "Generated image shape: torch.Size([1, 784])\n"
          ]
        }
      ],
      "source": [
        "class Generator(nn.Module):\n",
        "    def __init__(self):\n",
        "        super(Generator, self).__init__()\n",
        "        self.model = nn.Sequential(\n",
        "            nn.Linear(latent_dim, 256),\n",
        "            nn.ReLU(True),\n",
        "            nn.Linear(256, 512),\n",
        "            nn.ReLU(True),\n",
        "            nn.Linear(512, 1024),\n",
        "            nn.ReLU(True),\n",
        "            nn.Linear(1024, 784),\n",
        "            nn.Tanh()\n",
        "        )\n",
        "\n",
        "    def forward(self, z):\n",
        "        return self.model(z)\n",
        "\n",
        "# Test shape\n",
        "G = Generator()\n",
        "test_noise = torch.randn(1, latent_dim)\n",
        "print(\"Generated image shape:\", G(test_noise).shape)"
      ]
    },
    {
      "cell_type": "code",
      "execution_count": null,
      "metadata": {
        "colab": {
          "base_uri": "https://localhost:8080/"
        },
        "id": "Q7I3iHxevwcw",
        "outputId": "3aadd569-623f-442d-b825-c2ad4498ac00"
      },
      "outputs": [
        {
          "output_type": "stream",
          "name": "stdout",
          "text": [
            "Output probability shape: torch.Size([1, 1])\n"
          ]
        }
      ],
      "source": [
        "class Discriminator(nn.Module):\n",
        "    def __init__(self):\n",
        "        super(Discriminator, self).__init__()\n",
        "        self.model = nn.Sequential(\n",
        "            nn.Linear(784, 512),\n",
        "            nn.LeakyReLU(0.2),\n",
        "            nn.Linear(512, 256),\n",
        "            nn.LeakyReLU(0.2),\n",
        "            nn.Linear(256, 1),\n",
        "            nn.Sigmoid()\n",
        "        )\n",
        "\n",
        "    def forward(self, x):\n",
        "        return self.model(x)\n",
        "\n",
        "# Test shape\n",
        "D = Discriminator()\n",
        "print(\"Output probability shape:\", D(torch.randn(1, 784)).shape)"
      ]
    },
    {
      "cell_type": "code",
      "execution_count": null,
      "metadata": {
        "colab": {
          "base_uri": "https://localhost:8080/"
        },
        "id": "O2dXgZQCv22S",
        "outputId": "f6279d5d-d905-4c98-ad5e-3fad451e9baa"
      },
      "outputs": [
        {
          "output_type": "stream",
          "name": "stdout",
          "text": [
            "Models and optimizers ready.\n"
          ]
        }
      ],
      "source": [
        "generator = Generator().to(device)\n",
        "discriminator = Discriminator().to(device)\n",
        "\n",
        "loss_fn = nn.BCELoss()\n",
        "optimizer_G = torch.optim.Adam(generator.parameters(), lr=lr)\n",
        "optimizer_D = torch.optim.Adam(discriminator.parameters(), lr=lr)\n",
        "\n",
        "print(\"Models and optimizers ready.\")"
      ]
    },
    {
      "cell_type": "code",
      "execution_count": null,
      "metadata": {
        "colab": {
          "base_uri": "https://localhost:8080/"
        },
        "id": "Y-ddsQ9Qv-t5",
        "outputId": "3255dc5a-a3e9-4a60-fcd5-5d255299241f"
      },
      "outputs": [
        {
          "output_type": "stream",
          "name": "stdout",
          "text": [
            "Epoch [1/50]  D_loss: 0.4158  G_loss: 6.9727\n",
            "Epoch [2/50]  D_loss: 0.0725  G_loss: 5.9247\n",
            "Epoch [3/50]  D_loss: 5.7771  G_loss: 1.3656\n",
            "Epoch [4/50]  D_loss: 0.3806  G_loss: 6.0749\n",
            "Epoch [5/50]  D_loss: 4.0403  G_loss: 1.0019\n",
            "Epoch [6/50]  D_loss: 0.9519  G_loss: 1.8729\n",
            "Epoch [7/50]  D_loss: 1.3000  G_loss: 3.3718\n",
            "Epoch [8/50]  D_loss: 1.6546  G_loss: 1.6157\n",
            "Epoch [9/50]  D_loss: 0.7386  G_loss: 1.5514\n",
            "Epoch [10/50]  D_loss: 1.2736  G_loss: 3.1710\n",
            "Epoch [11/50]  D_loss: 0.3679  G_loss: 3.4057\n",
            "Epoch [12/50]  D_loss: 0.2559  G_loss: 4.7083\n",
            "Epoch [13/50]  D_loss: 0.4948  G_loss: 4.3413\n",
            "Epoch [14/50]  D_loss: 0.5828  G_loss: 2.2774\n",
            "Epoch [15/50]  D_loss: 0.3179  G_loss: 3.0462\n",
            "Epoch [16/50]  D_loss: 1.2233  G_loss: 2.1933\n",
            "Epoch [17/50]  D_loss: 1.4340  G_loss: 3.1491\n",
            "Epoch [18/50]  D_loss: 1.2220  G_loss: 2.8245\n",
            "Epoch [19/50]  D_loss: 1.1043  G_loss: 2.4155\n",
            "Epoch [20/50]  D_loss: 0.5104  G_loss: 3.0453\n",
            "Epoch [21/50]  D_loss: 1.0265  G_loss: 3.2548\n",
            "Epoch [22/50]  D_loss: 0.8748  G_loss: 2.1382\n",
            "Epoch [23/50]  D_loss: 0.2844  G_loss: 3.9306\n",
            "Epoch [24/50]  D_loss: 0.4848  G_loss: 2.5986\n",
            "Epoch [25/50]  D_loss: 0.6607  G_loss: 2.1476\n",
            "Epoch [26/50]  D_loss: 0.6382  G_loss: 2.8661\n",
            "Epoch [27/50]  D_loss: 0.8006  G_loss: 2.6949\n",
            "Epoch [28/50]  D_loss: 0.4269  G_loss: 2.3546\n",
            "Epoch [29/50]  D_loss: 0.5639  G_loss: 3.8910\n",
            "Epoch [30/50]  D_loss: 0.4758  G_loss: 3.2300\n",
            "Epoch [31/50]  D_loss: 0.5167  G_loss: 3.4772\n",
            "Epoch [32/50]  D_loss: 0.7457  G_loss: 3.6955\n",
            "Epoch [33/50]  D_loss: 0.4224  G_loss: 2.1452\n",
            "Epoch [34/50]  D_loss: 0.7830  G_loss: 2.6553\n",
            "Epoch [35/50]  D_loss: 0.4735  G_loss: 2.7499\n",
            "Epoch [36/50]  D_loss: 0.3720  G_loss: 3.0800\n",
            "Epoch [37/50]  D_loss: 0.6627  G_loss: 3.1669\n",
            "Epoch [38/50]  D_loss: 0.6256  G_loss: 4.1059\n",
            "Epoch [39/50]  D_loss: 0.4256  G_loss: 3.9957\n",
            "Epoch [40/50]  D_loss: 0.3286  G_loss: 4.3081\n",
            "Epoch [41/50]  D_loss: 0.5882  G_loss: 3.9256\n",
            "Epoch [42/50]  D_loss: 0.4520  G_loss: 3.5728\n",
            "Epoch [43/50]  D_loss: 0.5430  G_loss: 3.0279\n",
            "Epoch [44/50]  D_loss: 0.7050  G_loss: 2.0343\n",
            "Epoch [45/50]  D_loss: 0.3324  G_loss: 3.3798\n",
            "Epoch [46/50]  D_loss: 0.7354  G_loss: 2.2897\n",
            "Epoch [47/50]  D_loss: 0.6746  G_loss: 1.9995\n",
            "Epoch [48/50]  D_loss: 0.6954  G_loss: 3.8115\n",
            "Epoch [49/50]  D_loss: 0.3457  G_loss: 3.1976\n",
            "Epoch [50/50]  D_loss: 0.8202  G_loss: 2.4220\n"
          ]
        }
      ],
      "source": [
        "for epoch in range(epochs):\n",
        "    for batch_idx, (real_imgs, _) in enumerate(dataloader):\n",
        "        real_imgs = real_imgs.view(real_imgs.size(0), -1).to(device)\n",
        "        batch_size = real_imgs.size(0)\n",
        "\n",
        "        real = torch.ones(batch_size, 1).to(device)\n",
        "        fake = torch.zeros(batch_size, 1).to(device)\n",
        "\n",
        "        # Train Discriminator\n",
        "        z = torch.randn(batch_size, latent_dim).to(device)\n",
        "        fake_imgs = generator(z)\n",
        "\n",
        "        real_loss = loss_fn(discriminator(real_imgs), real)\n",
        "        fake_loss = loss_fn(discriminator(fake_imgs.detach()), fake)\n",
        "        d_loss = real_loss + fake_loss\n",
        "\n",
        "        optimizer_D.zero_grad()\n",
        "        d_loss.backward()\n",
        "        optimizer_D.step()\n",
        "\n",
        "        # Train Generator\n",
        "        z = torch.randn(batch_size, latent_dim).to(device)\n",
        "        fake_imgs = generator(z)\n",
        "        g_loss = loss_fn(discriminator(fake_imgs), real)\n",
        "\n",
        "        optimizer_G.zero_grad()\n",
        "        g_loss.backward()\n",
        "        optimizer_G.step()\n",
        "\n",
        "    print(f\"Epoch [{epoch+1}/{epochs}]  D_loss: {d_loss.item():.4f}  G_loss: {g_loss.item():.4f}\")\n",
        "\n",
        "    # Save image every epoch\n",
        "    with torch.no_grad():\n",
        "        test_z = torch.randn(64, latent_dim).to(device)\n",
        "        gen_imgs = generator(test_z).reshape(-1, 1, 28, 28)\n",
        "        grid = torchvision.utils.make_grid(gen_imgs, nrow=8, normalize=True)\n",
        "        torchvision.utils.save_image(grid, f\"generated_images/{epoch+1:03d}.png\")\n"
      ]
    },
    {
      "cell_type": "code",
      "execution_count": null,
      "metadata": {
        "colab": {
          "base_uri": "https://localhost:8080/",
          "height": 902
        },
        "id": "Rqhq2Sqx4uu-",
        "outputId": "e196f36c-4f75-418d-a9dc-fbe975de0803"
      },
      "outputs": [
        {
          "output_type": "stream",
          "name": "stdout",
          "text": [
            "  adding: generated_images/ (stored 0%)\n",
            "  adding: generated_images/012.png (deflated 3%)\n",
            "  adding: generated_images/004.png (deflated 5%)\n",
            "  adding: generated_images/020.png (deflated 5%)\n",
            "  adding: generated_images/049.png (deflated 4%)\n",
            "  adding: generated_images/043.png (deflated 4%)\n",
            "  adding: generated_images/019.png (deflated 6%)\n",
            "  adding: generated_images/014.png (deflated 5%)\n",
            "  adding: generated_images/037.png (deflated 3%)\n",
            "  adding: generated_images/016.png (deflated 5%)\n",
            "  adding: generated_images/011.png (deflated 4%)\n",
            "  adding: generated_images/009.png (deflated 4%)\n",
            "  adding: generated_images/018.png (deflated 4%)\n",
            "  adding: generated_images/029.png (deflated 4%)\n",
            "  adding: generated_images/015.png (deflated 4%)\n",
            "  adding: generated_images/025.png (deflated 4%)\n",
            "  adding: generated_images/046.png (deflated 4%)\n",
            "  adding: generated_images/017.png (deflated 4%)\n",
            "  adding: generated_images/028.png (deflated 4%)\n",
            "  adding: generated_images/021.png (deflated 5%)\n",
            "  adding: generated_images/045.png (deflated 4%)\n",
            "  adding: generated_images/044.png (deflated 4%)\n",
            "  adding: generated_images/022.png (deflated 5%)\n",
            "  adding: generated_images/008.png (deflated 5%)\n",
            "  adding: generated_images/041.png (deflated 4%)\n",
            "  adding: generated_images/006.png (deflated 4%)\n",
            "  adding: generated_images/023.png (deflated 5%)\n",
            "  adding: generated_images/033.png (deflated 4%)\n",
            "  adding: generated_images/047.png (deflated 4%)\n",
            "  adding: generated_images/003.png (deflated 4%)\n",
            "  adding: generated_images/040.png (deflated 3%)\n",
            "  adding: generated_images/032.png (deflated 4%)\n",
            "  adding: generated_images/001.png (deflated 4%)\n",
            "  adding: generated_images/038.png (deflated 4%)\n",
            "  adding: generated_images/030.png (deflated 5%)\n",
            "  adding: generated_images/007.png (deflated 5%)\n",
            "  adding: generated_images/031.png (deflated 3%)\n",
            "  adding: generated_images/010.png (deflated 4%)\n",
            "  adding: generated_images/013.png (deflated 7%)\n",
            "  adding: generated_images/039.png (deflated 4%)\n",
            "  adding: generated_images/048.png (deflated 4%)\n",
            "  adding: generated_images/042.png (deflated 4%)\n",
            "  adding: generated_images/026.png (deflated 4%)\n",
            "  adding: generated_images/035.png (deflated 4%)\n",
            "  adding: generated_images/034.png (deflated 4%)\n",
            "  adding: generated_images/002.png (deflated 2%)\n",
            "  adding: generated_images/050.png (deflated 4%)\n",
            "  adding: generated_images/005.png (deflated 4%)\n",
            "  adding: generated_images/036.png (deflated 4%)\n",
            "  adding: generated_images/024.png (deflated 4%)\n",
            "  adding: generated_images/027.png (deflated 4%)\n"
          ]
        },
        {
          "output_type": "display_data",
          "data": {
            "text/plain": [
              "<IPython.core.display.Javascript object>"
            ],
            "application/javascript": [
              "\n",
              "    async function download(id, filename, size) {\n",
              "      if (!google.colab.kernel.accessAllowed) {\n",
              "        return;\n",
              "      }\n",
              "      const div = document.createElement('div');\n",
              "      const label = document.createElement('label');\n",
              "      label.textContent = `Downloading \"${filename}\": `;\n",
              "      div.appendChild(label);\n",
              "      const progress = document.createElement('progress');\n",
              "      progress.max = size;\n",
              "      div.appendChild(progress);\n",
              "      document.body.appendChild(div);\n",
              "\n",
              "      const buffers = [];\n",
              "      let downloaded = 0;\n",
              "\n",
              "      const channel = await google.colab.kernel.comms.open(id);\n",
              "      // Send a message to notify the kernel that we're ready.\n",
              "      channel.send({})\n",
              "\n",
              "      for await (const message of channel.messages) {\n",
              "        // Send a message to notify the kernel that we're ready.\n",
              "        channel.send({})\n",
              "        if (message.buffers) {\n",
              "          for (const buffer of message.buffers) {\n",
              "            buffers.push(buffer);\n",
              "            downloaded += buffer.byteLength;\n",
              "            progress.value = downloaded;\n",
              "          }\n",
              "        }\n",
              "      }\n",
              "      const blob = new Blob(buffers, {type: 'application/binary'});\n",
              "      const a = document.createElement('a');\n",
              "      a.href = window.URL.createObjectURL(blob);\n",
              "      a.download = filename;\n",
              "      div.appendChild(a);\n",
              "      a.click();\n",
              "      div.remove();\n",
              "    }\n",
              "  "
            ]
          },
          "metadata": {}
        },
        {
          "output_type": "display_data",
          "data": {
            "text/plain": [
              "<IPython.core.display.Javascript object>"
            ],
            "application/javascript": [
              "download(\"download_685dabeb-605d-4820-b626-165f40b532bf\", \"generated_images.zip\", 3329673)"
            ]
          },
          "metadata": {}
        }
      ],
      "source": [
        "!zip -r generated_images.zip generated_images\n",
        "from google.colab import files\n",
        "files.download(\"generated_images.zip\")"
      ]
    },
    {
      "cell_type": "code",
      "execution_count": null,
      "metadata": {
        "colab": {
          "base_uri": "https://localhost:8080/",
          "height": 259
        },
        "id": "uHCM3lAM7gy-",
        "outputId": "f35ed96d-3957-4552-8801-f851bd9dcbf9"
      },
      "outputs": [
        {
          "output_type": "display_data",
          "data": {
            "image/png": "[encoded data removed]",
            "text/plain": [
              "<IPython.core.display.Image object>"
            ]
          },
          "metadata": {}
        }
      ],
      "source": [
        "from IPython.display import Image, display\n",
        "display(Image(\"generated_images/049.png\"))"
      ]
    }
  ],
  "metadata": {
    "colab": {
      "provenance": []
    },
    "kernelspec": {
      "display_name": "Python 3",
      "name": "python3"
    },
    "language_info": {
      "name": "python"
    }
  },
  "nbformat": 4,
  "nbformat_minor": 0
}